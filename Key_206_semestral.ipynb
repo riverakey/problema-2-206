{
  "cells": [
    {
      "cell_type": "code",
      "source": [
        "import numpy as np\n",
        "import matplotlib.pyplot as plt \n",
        "import pandas as pd"
      ],
      "metadata": {
        "id": "Q4tVE4DIRt8Y"
      },
      "execution_count": null,
      "outputs": []
    },
    {
      "cell_type": "code",
      "source": [
        "# prloblema 2 funcion radial del hidrogeno "
      ],
      "metadata": {
        "id": "CMI80ycbSqAM"
      },
      "execution_count": null,
      "outputs": []
    },
    {
      "cell_type": "code",
      "source": [
        "from matplotlib.collections import math\n",
        "a=1.0\n",
        "Z=1.0\n",
        "r=np.arange(0,12,0.1)\n",
        "\n",
        "R=(1/math.sqrt(2))*((Z/a)**(3/2))*(1-((Z*r)/2*a))**((-Z*r)/(2*a))\n",
        "\n",
        "plt.plot(r,R)\n",
        "plt.title(\"Grafico de la funcion radial de H2\")\n",
        "plt.xlabel(\"r\")\n",
        "plt.ylabel(\"R\")\n",
        "plt.show()"
      ],
      "metadata": {
        "id": "UmaDkcxF0MNw",
        "outputId": "f53b6d32-f967-4f0e-9d89-7f86b6a30e30",
        "colab": {
          "base_uri": "https://localhost:8080/",
          "height": 364
        }
      },
      "execution_count": null,
      "outputs": [
        {
          "output_type": "stream",
          "name": "stderr",
          "text": [
            "<ipython-input-10-5c2fa93a95e2>:6: RuntimeWarning: divide by zero encountered in power\n",
            "  R=(1/math.sqrt(2))*((Z/a)**(3/2))*(1-((Z*r)/2*a))**((-Z*r)/(2*a))\n",
            "<ipython-input-10-5c2fa93a95e2>:6: RuntimeWarning: invalid value encountered in power\n",
            "  R=(1/math.sqrt(2))*((Z/a)**(3/2))*(1-((Z*r)/2*a))**((-Z*r)/(2*a))\n"
          ]
        },
        {
          "output_type": "display_data",
          "data": {
            "text/plain": [
              "<Figure size 432x288 with 1 Axes>"
            ],
            "image/png": "[encoded data removed]"
          },
          "metadata": {
            "needs_background": "light"
          }
        }
      ]
    }
  ],
  "metadata": {
    "colab": {
      "toc_visible": true,
      "provenance": []
    },
    "kernelspec": {
      "display_name": "Python 3",
      "name": "python3"
    }
  },
  "nbformat": 4,
  "nbformat_minor": 0
}